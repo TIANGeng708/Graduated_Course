{
 "cells": [
  {
   "cell_type": "markdown",
   "metadata": {},
   "source": [
    "## Classification on a diabetic dataset"
   ]
  },
  {
   "cell_type": "code",
   "execution_count": 1,
   "metadata": {},
   "outputs": [],
   "source": [
    "import numpy as np \n",
    "import pandas as pd\n",
    "from sklearn.model_selection import train_test_split\n",
    "from sklearn.linear_model import LogisticRegression\n",
    "from sklearn.ensemble import RandomForestClassifier"
   ]
  },
  {
   "cell_type": "markdown",
   "metadata": {},
   "source": [
    "Load the data and label file and observer their features"
   ]
  },
  {
   "cell_type": "code",
   "execution_count": 2,
   "metadata": {},
   "outputs": [
    {
     "name": "stdout",
     "output_type": "stream",
     "text": [
      "   0    1   2   3  4     5      6   7\n",
      "0  6  148  72  35  0  33.6  0.627  50\n",
      "1  1   85  66  29  0  26.6  0.351  31\n",
      "2  8  183  64   0  0  23.3  0.672  32\n",
      "   0\n",
      "0  1\n",
      "1  0\n",
      "2  1\n"
     ]
    }
   ],
   "source": [
    "train_data=pd.read_csv(\"./traindata.txt\",header=None,sep=' ')\n",
    "train_label=pd.read_csv(\"./trainlabel.txt\",header=None)\n",
    "print(train_data.head(3))\n",
    "print(train_label.head(3))"
   ]
  },
  {
   "cell_type": "markdown",
   "metadata": {},
   "source": [
    "This is a binary classification problem and the dimension of the training data is 8. Therefore, I decide to build a model based on RandomForestClassifier since it has a good performance on imbalance dataset. Then I convert the dataframe to numpy array and split the training set."
   ]
  },
  {
   "cell_type": "code",
   "execution_count": 3,
   "metadata": {},
   "outputs": [],
   "source": [
    "train_data=train_data.to_numpy()\n",
    "train_label=train_label.to_numpy()\n",
    "x_train,x_test,y_train,y_test=train_test_split(train_data,train_label,test_size=0.2,random_state=0)"
   ]
  },
  {
   "cell_type": "markdown",
   "metadata": {},
   "source": [
    "Build the RandomForestClassifier and begin to train the model."
   ]
  },
  {
   "cell_type": "code",
   "execution_count": 4,
   "metadata": {},
   "outputs": [],
   "source": [
    "clf = RandomForestClassifier(n_estimators=50,random_state=2)\n",
    "clf = clf.fit(x_train, y_train.ravel())"
   ]
  },
  {
   "cell_type": "markdown",
   "metadata": {},
   "source": [
    "Evaluate the model performance on the valid set."
   ]
  },
  {
   "cell_type": "code",
   "execution_count": 5,
   "metadata": {},
   "outputs": [
    {
     "data": {
      "text/plain": [
       "0.8083333333333333"
      ]
     },
     "execution_count": 5,
     "metadata": {},
     "output_type": "execute_result"
    }
   ],
   "source": [
    "clf.score(x_test,y_test)"
   ]
  },
  {
   "cell_type": "markdown",
   "metadata": {},
   "source": [
    "Finally I test the model performance on the test set, and write the testlabel to a txt file"
   ]
  },
  {
   "cell_type": "code",
   "execution_count": 6,
   "metadata": {},
   "outputs": [],
   "source": [
    "test_data=pd.read_csv(\"./testdata.txt\",header=None,sep=' ').to_numpy()\n",
    "test_label=clf.predict(test_data)\n",
    "with open ('testlabel.txt','w') as f:\n",
    "    for i in test_label:\n",
    "        f.write(str(i)+'\\n')"
   ]
  }
 ],
 "metadata": {
  "kernelspec": {
   "display_name": "Python 3 (ipykernel)",
   "language": "python",
   "name": "python3"
  },
  "language_info": {
   "codemirror_mode": {
    "name": "ipython",
    "version": 3
   },
   "file_extension": ".py",
   "mimetype": "text/x-python",
   "name": "python",
   "nbconvert_exporter": "python",
   "pygments_lexer": "ipython3",
   "version": "3.9.12"
  },
  "vscode": {
   "interpreter": {
    "hash": "d75faf6e4ac4c7f63b1f559be64b98cc9387f359df9b383c759d316cf99b3dfc"
   }
  }
 },
 "nbformat": 4,
 "nbformat_minor": 2
}
